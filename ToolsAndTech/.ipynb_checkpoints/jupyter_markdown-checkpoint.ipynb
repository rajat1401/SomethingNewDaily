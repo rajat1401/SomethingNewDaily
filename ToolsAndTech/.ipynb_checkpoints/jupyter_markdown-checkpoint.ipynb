{
 "cells": [
  {
   "cell_type": "markdown",
   "metadata": {},
   "source": [
    "# Title of the cell\n",
    "## Major headings\n",
    "### Subheadings and so on..\n",
    "\n",
    "\n",
    "1. To bold we can use **this** and to italics we can use *this*!\n",
    "2. To color text, can use html style markers like <font color= orange>this</font>\n",
    "3. `For monospaced font like filepaths and names use this.`\n",
    "4. Write mathematical equations like this: $ x^2 + 5x + 6= 0 $\n",
    "> Indented quoting like this.\n",
    "5. For bullets use this:- \n",
    "- First\n",
    "    - Second\n",
    "        - Third and so on.\n",
    "\n",
    "6. We have already been doing numbering..\n",
    "7. For horizonal lines use this\n",
    "***\n",
    "8. Give a link to something like [this](https://rajatwaitforitbansal.wordpress.com) \n",
    "9. You can add code like this \n",
    "```python\n",
    "def maxProfit(prices):\n",
    "    maxprofit= 0\n",
    "    minprice= float('inf')\n",
    "    n= len(prices)\n",
    "    for j in range(n):\n",
    "        if(prices[j]< minprice):\n",
    "            minprice= prices[j]\n",
    "        if(prices[j] - minprice> maxprofit):\n",
    "            maxprofit= prices[j] - minprice    \n",
    "    return maxprofit\n",
    "\n",
    "arr= list(map(int, input().split()))\n",
    "print (maxProfit(arr))\n",
    "```"
   ]
  },
  {
   "cell_type": "markdown",
   "metadata": {},
   "source": []
  }
 ],
 "metadata": {
  "interpreter": {
   "hash": "c555fb8398d2ac290949c591b348c31b432fab89e9189ecb9895077700e53d0e"
  },
  "kernelspec": {
   "display_name": "Python 3 (ipykernel)",
   "language": "python",
   "name": "python3"
  },
  "language_info": {
   "codemirror_mode": {
    "name": "ipython",
    "version": 3
   },
   "file_extension": ".py",
   "mimetype": "text/x-python",
   "name": "python",
   "nbconvert_exporter": "python",
   "pygments_lexer": "ipython3",
   "version": "3.9.4"
  }
 },
 "nbformat": 4,
 "nbformat_minor": 2
}
