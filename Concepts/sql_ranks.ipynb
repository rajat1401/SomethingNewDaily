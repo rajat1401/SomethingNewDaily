{
 "cells": [
  {
   "cell_type": "markdown",
   "source": [
    "## row_number\n",
    "\n",
    "> Gives a **unique** sequential number for eah row in the specified data."
   ],
   "metadata": {}
  },
  {
   "cell_type": "code",
   "execution_count": null,
   "source": [
    "SELECT Studentname, \n",
    "       Subject, \n",
    "       Marks, \n",
    "       ROW_NUMBER() OVER(ORDER BY Marks) RowNumber\n",
    "FROM ExamResult;"
   ],
   "outputs": [],
   "metadata": {}
  },
  {
   "cell_type": "markdown",
   "source": [
    "<img src= \"/Users/rajat_mac/Documents/SomethingNewDaily/images/row_number.png\"/>"
   ],
   "metadata": {}
  },
  {
   "cell_type": "markdown",
   "source": [
    "## rank\n",
    "\n",
    "> Same as row_number but not unique. See example for more details."
   ],
   "metadata": {}
  },
  {
   "cell_type": "code",
   "execution_count": null,
   "source": [
    "SELECT Studentname, \n",
    "       Subject, \n",
    "       Marks, \n",
    "       RANK() OVER(ORDER BY Marks DESC) Rank\n",
    "FROM ExamResult\n",
    "ORDER BY Rank;"
   ],
   "outputs": [],
   "metadata": {}
  },
  {
   "cell_type": "markdown",
   "source": [
    "<img src= \"/Users/rajat_mac/Documents/SomethingNewDaily/images/rank.png\"/>"
   ],
   "metadata": {}
  },
  {
   "cell_type": "markdown",
   "source": [
    "## dense_rank\n",
    "\n",
    "> Excatly similar as rank but it doesn't miss a rank.  \n",
    "\n",
    "Ex: If 2 people tie at rank 4, the next rank would be 5 and not 6. "
   ],
   "metadata": {}
  },
  {
   "cell_type": "code",
   "execution_count": null,
   "source": [
    "SELECT Studentname, \n",
    "        Subject, \n",
    "        Marks, \n",
    "        RANK() OVER(PARTITION BY StudentName ORDER BY Marks ) Rank\n",
    "FROM ExamResult\n",
    "ORDER BY Studentname, \n",
    "        Rank;\n",
    "\n",
    "\n",
    "SELECT Studentname, \n",
    "        Subject, \n",
    "        Marks, \n",
    "        DENSE_RANK() OVER(PARTITION BY StudentName ORDER BY Marks ) Rank\n",
    "FROM ExamResult\n",
    "ORDER BY Studentname, \n",
    "        Rank;"
   ],
   "outputs": [],
   "metadata": {}
  },
  {
   "cell_type": "markdown",
   "source": [
    "<img src= \"/Users/rajat_mac/Documents/SomethingNewDaily/images/dense_rank.png\"/>"
   ],
   "metadata": {}
  }
 ],
 "metadata": {
  "orig_nbformat": 4,
  "language_info": {
   "name": "python"
  }
 },
 "nbformat": 4,
 "nbformat_minor": 2
}